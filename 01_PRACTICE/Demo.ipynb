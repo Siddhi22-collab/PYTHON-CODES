{
 "cells": [
  {
   "cell_type": "code",
   "execution_count": 3,
   "id": "fe29db00-70d9-4270-a0f4-050194083bf1",
   "metadata": {},
   "outputs": [
    {
     "name": "stdout",
     "output_type": "stream",
     "text": [
      "Hellow world\n"
     ]
    }
   ],
   "source": [
    "print(\"Hellow world\")\n"
   ]
  },
  {
   "cell_type": "code",
   "execution_count": null,
   "id": "620be50f-d9c4-4fac-abb1-52de1e94e28a",
   "metadata": {},
   "outputs": [],
   "source": []
  },
  {
   "cell_type": "markdown",
   "id": "a0cc551c-0286-4f8a-8c6f-6459e545c1e4",
   "metadata": {},
   "source": [
    "# siddhi"
   ]
  }
 ],
 "metadata": {
  "kernelspec": {
   "display_name": "Python 3 (ipykernel)",
   "language": "python",
   "name": "python3"
  },
  "language_info": {
   "codemirror_mode": {
    "name": "ipython",
    "version": 3
   },
   "file_extension": ".py",
   "mimetype": "text/x-python",
   "name": "python",
   "nbconvert_exporter": "python",
   "pygments_lexer": "ipython3",
   "version": "3.13.1"
  }
 },
 "nbformat": 4,
 "nbformat_minor": 5
}
