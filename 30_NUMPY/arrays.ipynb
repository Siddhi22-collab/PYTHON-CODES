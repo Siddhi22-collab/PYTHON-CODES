{
 "cells": [
  {
   "cell_type": "code",
   "execution_count": 1,
   "id": "402efe96-0c2f-4106-907d-0c454724786a",
   "metadata": {},
   "outputs": [
    {
     "name": "stdout",
     "output_type": "stream",
     "text": [
      "[20 50 80]\n",
      "[60 40 20]\n",
      "[ 80  90 100]\n"
     ]
    }
   ],
   "source": [
    "import numpy as np\n",
    "a=np.array([20,50,80])\n",
    "b=np.array([60,40,20])\n",
    "print(a)\n",
    "print(b)\n",
    "print(a+b)"
   ]
  },
  {
   "cell_type": "code",
   "execution_count": null,
   "id": "0f3ab387-2920-4424-afe9-9b59df90895c",
   "metadata": {},
   "outputs": [],
   "source": []
  }
 ],
 "metadata": {
  "kernelspec": {
   "display_name": "Python 3 (ipykernel)",
   "language": "python",
   "name": "python3"
  },
  "language_info": {
   "codemirror_mode": {
    "name": "ipython",
    "version": 3
   },
   "file_extension": ".py",
   "mimetype": "text/x-python",
   "name": "python",
   "nbconvert_exporter": "python",
   "pygments_lexer": "ipython3",
   "version": "3.13.1"
  }
 },
 "nbformat": 4,
 "nbformat_minor": 5
}
